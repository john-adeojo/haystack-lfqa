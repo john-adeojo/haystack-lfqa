{
 "cells": [
  {
   "cell_type": "code",
   "execution_count": 50,
   "id": "7a54d4e9-6444-4d4e-b05b-365dae0c6fb5",
   "metadata": {},
   "outputs": [],
   "source": [
    "import os \n",
    "import yaml\n",
    "def read_config(path):\n",
    "    \"\"\"\n",
    "    Reads API key from a configuration file.\n",
    "\n",
    "    This function opens a configuration file named \"apikeys.yml\", reads the API key for OpenAI\n",
    "\n",
    "    Returns:\n",
    "    api_key (str): The API key for the Amadeus Flights API.\n",
    "    \"\"\"\n",
    "    \n",
    "    # Get the directory of the current script\n",
    "    script_dir = path\n",
    "\n",
    "    # Construct the full path to the configuration file\n",
    "    file_path = os.path.join(script_dir, \"apikeys.yml\")\n",
    "\n",
    "    with open(file_path, 'r') as stream:\n",
    "        configs = yaml.safe_load(stream)\n",
    "        API_KEY = configs['openai']['api_key']\n",
    "            \n",
    "    return API_KEY\n",
    "path = r\"C:\\Users\\johna\\OneDrive\\Documents\\api_keys\"  # Change to the location of your apikeys.yml\n",
    "API_KEY = read_config(path)"
   ]
  },
  {
   "cell_type": "code",
   "execution_count": 1,
   "id": "e82b0f58-cf03-4238-80b6-1c4ace11ae6c",
   "metadata": {},
   "outputs": [
    {
     "name": "stderr",
     "output_type": "stream",
     "text": [
      "C:\\Users\\johna\\anaconda3\\envs\\lfqa_env\\lib\\site-packages\\tqdm\\auto.py:21: TqdmWarning: IProgress not found. Please update jupyter and ipywidgets. See https://ipywidgets.readthedocs.io/en/stable/user_install.html\n",
      "  from .autonotebook import tqdm as notebook_tqdm\n"
     ]
    }
   ],
   "source": [
    "from haystack.nodes import PreProcessor\n",
    "from haystack.utils import convert_files_to_docs\n",
    "\n",
    "# pre-process docs \n",
    "def preprocess_docs(doc_dir):\n",
    "    all_docs = convert_files_to_docs(dir_path=doc_dir)\n",
    "    preprocessor = PreProcessor(\n",
    "        clean_empty_lines=True,\n",
    "        clean_whitespace=True,\n",
    "        clean_header_footer=False,\n",
    "        split_by=\"word\",\n",
    "        split_respect_sentence_boundary=True,\n",
    "        split_overlap=30, \n",
    "        split_length=100\n",
    "    )\n",
    "    docs = preprocessor.process(all_docs)\n",
    "    print(f\"n_files_input: {len(all_docs)}\\nn_docs_output: {len(docs)}\")\n",
    "    return docs"
   ]
  },
  {
   "cell_type": "code",
   "execution_count": 2,
   "id": "6cbd3aff-7328-40d1-a247-15079576c12c",
   "metadata": {},
   "outputs": [
    {
     "name": "stderr",
     "output_type": "stream",
     "text": [
      "Preprocessing:   0%|                                                                           | 0/2 [00:00<?, ?docs/s]We found one or more sentences whose word count is higher than the split length.\n",
      "Preprocessing: 100%|███████████████████████████████████████████████████████████████████| 2/2 [00:00<00:00,  3.49docs/s]"
     ]
    },
    {
     "name": "stdout",
     "output_type": "stream",
     "text": [
      "n_files_input: 2\n",
      "n_docs_output: 2149\n"
     ]
    },
    {
     "name": "stderr",
     "output_type": "stream",
     "text": [
      "\n"
     ]
    }
   ],
   "source": [
    "doc_dir = r\"C:\\Users\\johna\\anaconda3\\envs\\lfqa_env\\haystack-lfqa\\documents\"\n",
    "docs = preprocess_docs(doc_dir)"
   ]
  },
  {
   "cell_type": "code",
   "execution_count": 3,
   "id": "04558e28-3493-4459-9951-829a89432d24",
   "metadata": {},
   "outputs": [],
   "source": [
    "# from sqlalchemy import create_engine\n",
    "# engine = create_engine('sqlite:///faiss_document_store.db')  # Use the correct path to your SQLite DB file\n",
    "# engine.execute(\"DROP TABLE document\")  # Be careful with this, it will delete all your documents!\n"
   ]
  },
  {
   "cell_type": "code",
   "execution_count": 4,
   "id": "21db427b-5ba1-43f0-a221-10e58ad706c8",
   "metadata": {},
   "outputs": [
    {
     "name": "stderr",
     "output_type": "stream",
     "text": [
      "Writing Documents: 10000it [00:04, 2165.81it/s]                                                                        \n"
     ]
    }
   ],
   "source": [
    "from haystack.document_stores import FAISSDocumentStore\n",
    "\n",
    "# create FAISS in memory\n",
    "def vector_stores(docs):\n",
    "    document_store = FAISSDocumentStore(sql_url=\"sqlite:///:memory:\", faiss_index_factory_str=\"Flat\", embedding_dim=768)\n",
    "    document_store.write_documents(docs)\n",
    "    return document_store\n",
    "\n",
    "document_store = vector_stores(docs)"
   ]
  },
  {
   "cell_type": "code",
   "execution_count": 33,
   "id": "28c2e654-5bcb-4cd5-b32e-ad222c82b6d6",
   "metadata": {},
   "outputs": [
    {
     "name": "stderr",
     "output_type": "stream",
     "text": [
      "Updating Embedding:   0%|                                                                  | 0/2149 [00:00<?, ? docs/s]\n",
      "Batches:   0%|                                                                                  | 0/68 [00:00<?, ?it/s]\u001b[A\n",
      "Batches:   1%|█                                                                         | 1/68 [00:25<28:14, 25.29s/it]\u001b[A\n",
      "Batches:   3%|██▏                                                                       | 2/68 [00:36<18:56, 17.22s/it]\u001b[A\n",
      "Batches:   4%|███▎                                                                      | 3/68 [00:44<13:55, 12.85s/it]\u001b[A\n",
      "Batches:   6%|████▎                                                                     | 4/68 [00:54<12:42, 11.91s/it]\u001b[A\n",
      "Batches:   7%|█████▍                                                                    | 5/68 [01:02<10:54, 10.39s/it]\u001b[A\n",
      "Batches:   9%|██████▌                                                                   | 6/68 [01:10<09:47,  9.47s/it]\u001b[A\n",
      "Batches:  10%|███████▌                                                                  | 7/68 [01:16<08:27,  8.33s/it]\u001b[A\n",
      "Batches:  12%|████████▋                                                                 | 8/68 [01:23<07:51,  7.86s/it]\u001b[A\n",
      "Batches:  13%|█████████▊                                                                | 9/68 [01:29<07:06,  7.23s/it]\u001b[A\n",
      "Batches:  15%|██████████▋                                                              | 10/68 [01:35<06:38,  6.86s/it]\u001b[A\n",
      "Batches:  16%|███████████▊                                                             | 11/68 [01:40<06:09,  6.49s/it]\u001b[A\n",
      "Batches:  18%|████████████▉                                                            | 12/68 [01:47<06:05,  6.52s/it]\u001b[A\n",
      "Batches:  19%|█████████████▉                                                           | 13/68 [01:52<05:28,  5.98s/it]\u001b[A\n",
      "Batches:  21%|███████████████                                                          | 14/68 [01:56<05:01,  5.58s/it]\u001b[A\n",
      "Batches:  22%|████████████████                                                         | 15/68 [02:01<04:50,  5.49s/it]\u001b[A\n",
      "Batches:  24%|█████████████████▏                                                       | 16/68 [02:08<04:54,  5.66s/it]\u001b[A\n",
      "Batches:  25%|██████████████████▎                                                      | 17/68 [02:12<04:32,  5.35s/it]\u001b[A\n",
      "Batches:  26%|███████████████████▎                                                     | 18/68 [02:16<04:06,  4.93s/it]\u001b[A\n",
      "Batches:  28%|████████████████████▍                                                    | 19/68 [02:21<04:04,  4.99s/it]\u001b[A\n",
      "Batches:  29%|█████████████████████▍                                                   | 20/68 [02:27<04:14,  5.30s/it]\u001b[A\n",
      "Batches:  31%|██████████████████████▌                                                  | 21/68 [02:32<03:55,  5.00s/it]\u001b[A\n",
      "Batches:  32%|███████████████████████▌                                                 | 22/68 [02:37<03:59,  5.22s/it]\u001b[A\n",
      "Batches:  34%|████████████████████████▋                                                | 23/68 [02:42<03:43,  4.98s/it]\u001b[A\n",
      "Batches:  35%|█████████████████████████▊                                               | 24/68 [02:47<03:44,  5.11s/it]\u001b[A\n",
      "Batches:  37%|██████████████████████████▊                                              | 25/68 [02:52<03:37,  5.07s/it]\u001b[A\n",
      "Batches:  38%|███████████████████████████▉                                             | 26/68 [02:57<03:32,  5.06s/it]\u001b[A\n",
      "Batches:  40%|████████████████████████████▉                                            | 27/68 [03:01<03:16,  4.79s/it]\u001b[A\n",
      "Batches:  41%|██████████████████████████████                                           | 28/68 [03:08<03:32,  5.31s/it]\u001b[A\n",
      "Batches:  43%|███████████████████████████████▏                                         | 29/68 [03:12<03:13,  4.97s/it]\u001b[A\n",
      "Batches:  44%|████████████████████████████████▏                                        | 30/68 [03:16<02:58,  4.71s/it]\u001b[A\n",
      "Batches:  46%|█████████████████████████████████▎                                       | 31/68 [03:22<03:02,  4.93s/it]\u001b[A\n",
      "Batches:  47%|██████████████████████████████████▎                                      | 32/68 [03:26<02:53,  4.81s/it]\u001b[A\n",
      "Batches:  49%|███████████████████████████████████▍                                     | 33/68 [03:30<02:36,  4.48s/it]\u001b[A\n",
      "Batches:  50%|████████████████████████████████████▌                                    | 34/68 [03:34<02:26,  4.32s/it]\u001b[A\n",
      "Batches:  51%|█████████████████████████████████████▌                                   | 35/68 [03:39<02:27,  4.45s/it]\u001b[A\n",
      "Batches:  53%|██████████████████████████████████████▋                                  | 36/68 [03:45<02:37,  4.93s/it]\u001b[A\n",
      "Batches:  54%|███████████████████████████████████████▋                                 | 37/68 [03:49<02:32,  4.93s/it]\u001b[A\n",
      "Batches:  56%|████████████████████████████████████████▊                                | 38/68 [03:55<02:33,  5.11s/it]\u001b[A\n",
      "Batches:  57%|█████████████████████████████████████████▊                               | 39/68 [03:59<02:17,  4.73s/it]\u001b[A\n",
      "Batches:  59%|██████████████████████████████████████████▉                              | 40/68 [04:03<02:10,  4.65s/it]\u001b[A\n",
      "Batches:  60%|████████████████████████████████████████████                             | 41/68 [04:08<02:05,  4.66s/it]\u001b[A\n",
      "Batches:  62%|█████████████████████████████████████████████                            | 42/68 [04:11<01:50,  4.27s/it]\u001b[A\n",
      "Batches:  63%|██████████████████████████████████████████████▏                          | 43/68 [04:16<01:50,  4.42s/it]\u001b[A\n",
      "Batches:  65%|███████████████████████████████████████████████▏                         | 44/68 [04:20<01:39,  4.17s/it]\u001b[A\n",
      "Batches:  66%|████████████████████████████████████████████████▎                        | 45/68 [04:25<01:45,  4.57s/it]\u001b[A\n",
      "Batches:  68%|█████████████████████████████████████████████████▍                       | 46/68 [04:29<01:36,  4.37s/it]\u001b[A\n",
      "Batches:  69%|██████████████████████████████████████████████████▍                      | 47/68 [04:34<01:36,  4.59s/it]\u001b[A\n",
      "Batches:  71%|███████████████████████████████████████████████████▌                     | 48/68 [04:39<01:34,  4.73s/it]\u001b[A\n",
      "Batches:  72%|████████████████████████████████████████████████████▌                    | 49/68 [04:45<01:33,  4.90s/it]\u001b[A\n",
      "Batches:  74%|█████████████████████████████████████████████████████▋                   | 50/68 [04:48<01:20,  4.50s/it]\u001b[A\n",
      "Batches:  75%|██████████████████████████████████████████████████████▊                  | 51/68 [04:55<01:28,  5.18s/it]\u001b[A\n",
      "Batches:  76%|███████████████████████████████████████████████████████▊                 | 52/68 [04:59<01:18,  4.90s/it]\u001b[A\n",
      "Batches:  78%|████████████████████████████████████████████████████████▉                | 53/68 [05:03<01:07,  4.51s/it]\u001b[A\n",
      "Batches:  79%|█████████████████████████████████████████████████████████▉               | 54/68 [05:07<01:03,  4.55s/it]\u001b[A\n",
      "Batches:  81%|███████████████████████████████████████████████████████████              | 55/68 [05:12<00:59,  4.57s/it]\u001b[A\n",
      "Batches:  82%|████████████████████████████████████████████████████████████             | 56/68 [05:16<00:52,  4.37s/it]\u001b[A\n",
      "Batches:  84%|█████████████████████████████████████████████████████████████▏           | 57/68 [05:19<00:43,  3.99s/it]\u001b[A\n",
      "Batches:  85%|██████████████████████████████████████████████████████████████▎          | 58/68 [05:23<00:39,  3.98s/it]\u001b[A\n",
      "Batches:  87%|███████████████████████████████████████████████████████████████▎         | 59/68 [05:27<00:35,  3.98s/it]\u001b[A\n",
      "Batches:  88%|████████████████████████████████████████████████████████████████▍        | 60/68 [05:30<00:30,  3.80s/it]\u001b[A\n",
      "Batches:  90%|█████████████████████████████████████████████████████████████████▍       | 61/68 [05:34<00:26,  3.84s/it]\u001b[A\n",
      "Batches:  91%|██████████████████████████████████████████████████████████████████▌      | 62/68 [05:39<00:24,  4.13s/it]\u001b[A\n",
      "Batches:  93%|███████████████████████████████████████████████████████████████████▋     | 63/68 [05:42<00:19,  3.82s/it]\u001b[A\n",
      "Batches:  94%|████████████████████████████████████████████████████████████████████▋    | 64/68 [05:45<00:14,  3.66s/it]\u001b[A\n",
      "Batches:  96%|█████████████████████████████████████████████████████████████████████▊   | 65/68 [05:49<00:10,  3.60s/it]\u001b[A\n",
      "Batches:  97%|██████████████████████████████████████████████████████████████████████▊  | 66/68 [05:53<00:07,  3.77s/it]\u001b[A\n",
      "Batches:  99%|███████████████████████████████████████████████████████████████████████▉ | 67/68 [05:57<00:03,  3.91s/it]\u001b[A\n",
      "Batches: 100%|█████████████████████████████████████████████████████████████████████████| 68/68 [05:58<00:00,  5.27s/it]\u001b[A\n",
      "Documents Processed: 10000 docs [05:58, 27.88 docs/s]                                                                  \n"
     ]
    }
   ],
   "source": [
    "from haystack.nodes import EmbeddingRetriever, FARMReader\n",
    "from haystack.pipelines import ExtractiveQAPipeline\n",
    "from haystack.pipelines import Pipeline\n",
    "\n",
    "\n",
    "# retreiver relevant docs\n",
    "retriever = EmbeddingRetriever(\n",
    "    document_store=document_store,\n",
    "    embedding_model=\"sentence-transformers/all-mpnet-base-v2\"\n",
    ")\n",
    "document_store.update_embeddings(retriever)\n",
    "\n",
    "# read relevant docs\n",
    "reader = FARMReader(model_name_or_path=\"deepset/roberta-base-squad2\")\n",
    "\n",
    "document_qa = ExtractiveQAPipeline(reader=reader, retriever=retriever)\n",
    "# pipe = Pipeline()\n",
    "# pipe.add_node(component=retriever, name=\"Retriever\", inputs=[\"Query\"])\n",
    "# document_qa = pipe.add_node(component=reader, name=\"Reader\", inputs=[\"Retriever\"])"
   ]
  },
  {
   "cell_type": "code",
   "execution_count": 51,
   "id": "6031d1c7-1eb4-4e80-ab5a-7ee412f3647f",
   "metadata": {},
   "outputs": [],
   "source": [
    "from haystack.agents import Agent\n",
    "from haystack.nodes import PromptNode, PromptTemplate, AnswerParser\n",
    "\n",
    "\n",
    "lfqa_prompt = PromptTemplate(\n",
    "    prompt=\"\"\"You are a helpful and knowledgeable agent. To achieve your goal of answering complex questions\n",
    "correctly, you have access to the following tools:\n",
    "\n",
    "{tool_names_with_descriptions}\n",
    "\n",
    "To answer questions, you'll need to go through multiple steps involving step-by-step thinking and\n",
    "selecting appropriate tools and their inputs; tools will respond with observations. When you are ready\n",
    "for a final answer, respond with the `Final Answer:`\n",
    "\n",
    "Use the following format:\n",
    "\n",
    "Question: the question to be answered\n",
    "Thought: Reason if you have the final answer. If yes, answer the question. If not, find out the missing information needed to answer it.\n",
    "Tool: pick one of {tool_names} \n",
    "Tool Input: the input for the tool\n",
    "Observation: the tool will respond with the result\n",
    "...\n",
    "\n",
    "Final Answer: the final answer to the question, make it short (1-5 words)\n",
    "Thought, Tool, Tool Input, and Observation steps can be repeated multiple times, but sometimes we can find an answer in the first pass\n",
    "---\n",
    "\n",
    "Question: {query}\n",
    "Thought: Let's think step-by-step, I first need to\n",
    "\"\"\",\n",
    "    output_parser=AnswerParser(),\n",
    ")\n",
    "\n",
    "api_key = API_KEY\n",
    "prompt_node = PromptNode(model_name_or_path=\"gpt-3.5-turbo\", default_prompt_template=lfqa_prompt, api_key=api_key, stop_words=[\"Observation:\"])\n",
    "agent = Agent(prompt_node=prompt_node)\n"
   ]
  },
  {
   "cell_type": "code",
   "execution_count": 52,
   "id": "41c3f2fb-e1a5-47c5-bf01-35f1ee1db672",
   "metadata": {},
   "outputs": [],
   "source": [
    "from haystack.agents import Tool\n",
    "\n",
    "search_tool = Tool(\n",
    "    name=\"document_qa\",\n",
    "    pipeline_or_node=document_qa,\n",
    "    description=\"useful for when you need to answer any question\",\n",
    "    output_variable=\"answers\",\n",
    ")\n",
    "agent.add_tool(search_tool)\n"
   ]
  },
  {
   "cell_type": "code",
   "execution_count": null,
   "id": "f174e934-3067-4c0f-a7a5-2c8efc6f3ad6",
   "metadata": {},
   "outputs": [
    {
     "name": "stdout",
     "output_type": "stream",
     "text": [
      "\n",
      "Agent custom-at-query-time started with {'query': 'What are the Consumer Duty requirements for firms that only introduce retail clients?', 'params': None}\n"
     ]
    },
    {
     "name": "stderr",
     "output_type": "stream",
     "text": [
      "The 'transcript' parameter is missing from the Agent's prompt template. All ReAct agents that go through multiple steps to reach a goal require this parameter. Please append {transcript} to the end of the Agent's prompt template to ensure its proper functioning. A temporary prompt template with {transcript} appended will be used for this run.\n"
     ]
    },
    {
     "name": "stdout",
     "output_type": "stream",
     "text": [
      "\u001b[32munder\u001b[0m\u001b[32mstand\u001b[0m\u001b[32m what\u001b[0m\u001b[32m \"\u001b[0m\u001b[32mConsumer\u001b[0m\u001b[32m Duty\u001b[0m\u001b[32m requirements\u001b[0m\u001b[32m\"\u001b[0m\u001b[32m are\u001b[0m\u001b[32m.\u001b[0m\u001b[32m Once\u001b[0m\u001b[32m I\u001b[0m\u001b[32m have\u001b[0m\u001b[32m that\u001b[0m\u001b[32m information\u001b[0m\u001b[32m,\u001b[0m\u001b[32m I\u001b[0m\u001b[32m can\u001b[0m\u001b[32m determine\u001b[0m\u001b[32m the\u001b[0m\u001b[32m specific\u001b[0m\u001b[32m requirements\u001b[0m\u001b[32m for\u001b[0m\u001b[32m firms\u001b[0m\u001b[32m that\u001b[0m\u001b[32m only\u001b[0m\u001b[32m introduce\u001b[0m\u001b[32m retail\u001b[0m\u001b[32m clients\u001b[0m\u001b[32m.\n",
      "\u001b[0m\u001b[32mTool\u001b[0m\u001b[32m:\u001b[0m\u001b[32m document\u001b[0m\u001b[32m_q\u001b[0m\u001b[32ma\u001b[0m\u001b[32m\n",
      "\u001b[0m\u001b[32mTool\u001b[0m\u001b[32m Input\u001b[0m\u001b[32m:\u001b[0m\u001b[32m \"\u001b[0m\u001b[32mConsumer\u001b[0m\u001b[32m Duty\u001b[0m\u001b[32m requirements\u001b[0m\u001b[32m\"\n",
      "\u001b[0m"
     ]
    },
    {
     "name": "stderr",
     "output_type": "stream",
     "text": [
      "Batches: 100%|███████████████████████████████████████████████████████████████████████████| 1/1 [00:00<00:00, 21.89it/s]\n",
      "Inferencing Samples:   0%|                                                                 | 0/1 [00:00<?, ? Batches/s]"
     ]
    }
   ],
   "source": [
    "result = agent.run(\"What are the Consumer Duty requirements for firms that only introduce retail clients?\")\n",
    "print(result[\"transcript\"].split(\"---\")[0])"
   ]
  },
  {
   "cell_type": "code",
   "execution_count": null,
   "id": "83888202-8e01-42e9-86d3-1c5f81ef9076",
   "metadata": {},
   "outputs": [],
   "source": []
  }
 ],
 "metadata": {
  "kernelspec": {
   "display_name": "Python 3 (ipykernel)",
   "language": "python",
   "name": "python3"
  },
  "language_info": {
   "codemirror_mode": {
    "name": "ipython",
    "version": 3
   },
   "file_extension": ".py",
   "mimetype": "text/x-python",
   "name": "python",
   "nbconvert_exporter": "python",
   "pygments_lexer": "ipython3",
   "version": "3.9.17"
  }
 },
 "nbformat": 4,
 "nbformat_minor": 5
}
