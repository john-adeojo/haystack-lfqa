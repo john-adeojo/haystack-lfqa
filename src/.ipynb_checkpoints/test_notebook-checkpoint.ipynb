{
 "cells": [
  {
   "cell_type": "code",
   "execution_count": 1,
   "id": "fec91eb8-c2a1-438c-9400-e2c15624a86e",
   "metadata": {},
   "outputs": [],
   "source": [
    "import os\n",
    "from docx import Document\n",
    "from PyPDF2 import PdfReader\n",
    "\n",
    "# Set the file path\n",
    "filename = \"AIF_Mod5_GroupEx_JohnAdeojo.docx\"\n",
    "file_path = f\"C:\\\\Users\\\\johna\\\\anaconda3\\\\envs\\\\lfqa_env\\\\haystack-lfqa\\\\documents\\\\{filename}\"\n",
    "\n",
    "def import_docs(filename, file_path):\n",
    "    # Get the file extension\n",
    "    file_extension = os.path.splitext(file_path)[1]\n",
    "    \n",
    "    # Read the file based on its extension\n",
    "    if file_extension == '.docx':\n",
    "        doc = Document(file_path)\n",
    "        text = ''\n",
    "        \n",
    "        # Iterate over the body elements\n",
    "        for element in doc.element.body:\n",
    "            # If it's a paragraph, get the text directly\n",
    "            if element.tag.endswith('}p'):\n",
    "                text += ' '.join([node.text for node in element.iter() if node.text])\n",
    "            # If it's a table, iterate over the rows and cells\n",
    "            elif element.tag.endswith('}tbl'):\n",
    "                for row in element.iter('{http://schemas.openxmlformats.org/wordprocessingml/2006/main}tr'):\n",
    "                    for cell in row.iter('{http://schemas.openxmlformats.org/wordprocessingml/2006/main}tc'):\n",
    "                        text += ' '.join([node.text for node in cell.iter() if node.text])\n",
    "    \n",
    "    elif file_extension == '.pdf':\n",
    "        pdf = PdfReader(file_path)\n",
    "        text = ' '.join([page.extract_text() for page in pdf.pages])\n",
    "    else:\n",
    "        text = None\n",
    "        print(f\"Unsupported file type {file_extension}\")\n",
    "    \n",
    "    # if text is not None:\n",
    "    #     print(text)\n",
    "\n",
    "    return text\n"
   ]
  },
  {
   "cell_type": "code",
   "execution_count": 3,
   "id": "fc16e04f-771a-454d-86f3-3c2469bf8fd6",
   "metadata": {},
   "outputs": [
    {
     "name": "stderr",
     "output_type": "stream",
     "text": [
      "C:\\Users\\johna\\anaconda3\\envs\\lfqa_env\\lib\\site-packages\\tqdm\\auto.py:21: TqdmWarning: IProgress not found. Please update jupyter and ipywidgets. See https://ipywidgets.readthedocs.io/en/stable/user_install.html\n",
      "  from .autonotebook import tqdm as notebook_tqdm\n"
     ]
    }
   ],
   "source": [
    "from haystack.nodes import TextConverter, PDFToTextConverter, DocxToTextConverter, PreProcessor\n",
    "\n",
    "def import_docs(filename, file_path):\n",
    "    file_extension = os.path.splitext(file_path)[1]\n",
    "    if file_extension == '.docx':\n",
    "        converter = DocxToTextConverter(remove_numeric_tables=False, valid_languages=[\"en\"])\n",
    "        doc = converter.convert(file_path=file_path, meta=None)[0]\n",
    "    if file_extension == '.pdf':\n",
    "        converter = PDFToTextConverter(remove_numeric_tables=True, valid_languages=[\"en\"])\n",
    "        doc = converter.convert(file_path=file_path, meta=None)[0]\n",
    "    return doc"
   ]
  },
  {
   "cell_type": "code",
   "execution_count": null,
   "id": "d6d3b135-3eb3-462d-aeac-e8f03bca711c",
   "metadata": {},
   "outputs": [],
   "source": [
    "filename = \"ngrams reading.pdf\"\n",
    "file_path = f\"C:\\\\Users\\\\johna\\\\anaconda3\\\\envs\\\\lfqa_env\\\\haystack-lfqa\\\\documents\\\\{filename}\"\n",
    "doc = import_docs(filename, file_path)"
   ]
  },
  {
   "cell_type": "code",
   "execution_count": 7,
   "id": "e82b0f58-cf03-4238-80b6-1c4ace11ae6c",
   "metadata": {},
   "outputs": [
    {
     "ename": "NameError",
     "evalue": "name 'doc' is not defined",
     "output_type": "error",
     "traceback": [
      "\u001b[1;31m---------------------------------------------------------------------------\u001b[0m",
      "\u001b[1;31mNameError\u001b[0m                                 Traceback (most recent call last)",
      "Cell \u001b[1;32mIn[7], line 1\u001b[0m\n\u001b[1;32m----> 1\u001b[0m \u001b[43mdoc\u001b[49m\n",
      "\u001b[1;31mNameError\u001b[0m: name 'doc' is not defined"
     ]
    }
   ],
   "source": [
    "preprocessor = PreProcessor(\n",
    "    clean_empty_lines=True,\n",
    "    clean_whitespace=True,\n",
    "    clean_header_footer=False,\n",
    "    split_by=\"word\",\n",
    "    split_length=100,\n",
    "    split_respect_sentence_boundary=True,\n",
    "    split_overlap=30, \n",
    "    split_length=100,\n",
    ")\n",
    "docs = preprocessor.process(doc)\n",
    "\n",
    "print(f\"n_files_input: {len(all_docs)}\\nn_docs_output: {len(docs)}\")"
   ]
  },
  {
   "cell_type": "code",
   "execution_count": null,
   "id": "6cbd3aff-7328-40d1-a247-15079576c12c",
   "metadata": {},
   "outputs": [],
   "source": []
  }
 ],
 "metadata": {
  "kernelspec": {
   "display_name": "Python 3 (ipykernel)",
   "language": "python",
   "name": "python3"
  },
  "language_info": {
   "codemirror_mode": {
    "name": "ipython",
    "version": 3
   },
   "file_extension": ".py",
   "mimetype": "text/x-python",
   "name": "python",
   "nbconvert_exporter": "python",
   "pygments_lexer": "ipython3",
   "version": "3.9.17"
  }
 },
 "nbformat": 4,
 "nbformat_minor": 5
}
